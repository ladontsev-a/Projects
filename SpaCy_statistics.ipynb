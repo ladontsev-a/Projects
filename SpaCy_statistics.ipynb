{
 "cells": [
  {
   "cell_type": "markdown",
   "id": "c5039b56",
   "metadata": {},
   "source": [
    "### Проверяем качество работы морфологического и синтаксического анализаторов SpaCy на корпусах из Universal Dependencies, размеченных в формате CoNLL-U\n",
    "Подробнее: https://universaldependencies.org/"
   ]
  },
  {
   "cell_type": "code",
   "execution_count": 3,
   "id": "f6d3cdde",
   "metadata": {},
   "outputs": [],
   "source": [
    "import conllu\n",
    "import spacy\n",
    "import pandas as pd\n",
    "import re"
   ]
  },
  {
   "cell_type": "code",
   "execution_count": 4,
   "id": "ea2b256d",
   "metadata": {},
   "outputs": [],
   "source": [
    "def get_corpus(file):\n",
    "    f = open(file, 'r', encoding='UTF-8')\n",
    "    return [tokenlist for tokenlist in conllu.parse_incr(f)]"
   ]
  },
  {
   "cell_type": "code",
   "execution_count": 5,
   "id": "8ace7ec2",
   "metadata": {},
   "outputs": [],
   "source": [
    "syntagrus = get_corpus('ru_syntagrus-full.conllu')\n",
    "taiga = get_corpus('ru_taiga-full.conllu')\n",
    "pud = get_corpus('ru_pud-ud-test.conllu')\n",
    "gsd = get_corpus('ru_gsd-full.conllu')"
   ]
  },
  {
   "cell_type": "markdown",
   "id": "060d96f3",
   "metadata": {},
   "source": [
    "* получили списки с предложениями\n",
    "* предложние - объект класса conllu.models.TokenList; хранит токены\n",
    "* токен - объект класса conllu.models.Token; хранит грамматическую и синтаксическую информацию"
   ]
  },
  {
   "cell_type": "code",
   "execution_count": 6,
   "id": "8abe5415",
   "metadata": {},
   "outputs": [],
   "source": [
    "nlp = spacy.load('ru_core_news_lg')"
   ]
  },
  {
   "cell_type": "markdown",
   "id": "6e8f3d2f",
   "metadata": {},
   "source": [
    "Поскольку нет задачи проверить качество токенизации, возьмем только те предложения, токены которых совпадают в корпусе и после токенизации SpaCy. Остальные невозможно будет сравнить."
   ]
  },
  {
   "cell_type": "code",
   "execution_count": 7,
   "id": "9a82d9f5",
   "metadata": {},
   "outputs": [],
   "source": [
    "def filter_tokens(corpus):\n",
    "    \n",
    "    \n",
    "    output_list = []\n",
    "    \n",
    "    for sent in corpus:\n",
    "        actual_tokens = [re.findall('\\w+', w['form']) for w in sent]\n",
    "        spacy_tokens = [re.findall('\\w+', w.text) for w in nlp(sent.metadata['text'])]\n",
    "        \n",
    "        if actual_tokens == spacy_tokens:\n",
    "            output_list.append([nlp(sent.metadata['text']), sent])\n",
    "            \n",
    "    return output_list"
   ]
  },
  {
   "cell_type": "markdown",
   "id": "bbfe4870",
   "metadata": {},
   "source": [
    "После этого сравниваем леммы, части речи, грамматические характеристики (последние сравниваем при условии совпадения частей речи)."
   ]
  },
  {
   "cell_type": "code",
   "execution_count": 8,
   "id": "96c50d7a",
   "metadata": {},
   "outputs": [],
   "source": [
    "def compare_morph(corpus):\n",
    "    \n",
    "    \n",
    "    sim_lemmas = 0\n",
    "    all_lemmas = 0\n",
    "    sim_pos = 0\n",
    "    all_pos = 0\n",
    "    sim_tags = 0\n",
    "    all_tags = 0\n",
    "    \n",
    "    for pair in corpus:\n",
    "        for i in range(len(pair[0])):\n",
    "            \n",
    "            if pair[0][i].lemma_.lower() == pair[1][i]['lemma'].lower():\n",
    "                sim_lemmas += 1\n",
    "            \n",
    "            if pair[0][i].pos_ == pair[1][i]['upos']:\n",
    "                sim_pos += 1\n",
    "                   \n",
    "                if pair[0][i].morph.to_dict() != {} and pair[1][i]['feats'] != None:\n",
    "                      \n",
    "                    if 'StyleVariant' in pair[0][i].morph.to_dict() and 'Variant' in pair[1][i]['feats']:\n",
    "                        \n",
    "                        if pair[0][i].morph.to_dict()['StyleVariant'] == pair[1][i]['feats']['Variant']:\n",
    "                            sim_tags+=1\n",
    "                                \n",
    "                    if 'Person' in pair[0][i].morph.to_dict() and 'Person' in pair[1][i]['feats']:\n",
    "                        temp_dict = pair[0][i].morph.to_dict()\n",
    "                        \n",
    "                        if temp_dict['Person'] == 'First' and pair[1][i]['feats']['Person'] == '1':\n",
    "                            temp_dict['Person'] = '1'\n",
    "                            \n",
    "                        elif temp_dict['Person'] == 'Second' and pair[1][i]['feats']['Person'] == '2':\n",
    "                            temp_dict['Person'] = '2'\n",
    "                        \n",
    "                        elif temp_dict['Person'] == 'Third' and pair[1][i]['feats']['Person'] == '3':\n",
    "                            temp_dict['Person'] = '3'\n",
    "                        \n",
    "                        if temp_dict == pair[1][i]['feats']:\n",
    "                            sim_tags+=1           \n",
    "                        \n",
    "                    if pair[0][i].morph.to_dict() == pair[1][i]['feats']:\n",
    "                        sim_tags += 1\n",
    "                \n",
    "                if pair[0][i].morph.to_dict() == {} and pair[1][i]['feats'] == None:\n",
    "                    sim_tags += 1\n",
    "            \n",
    "            all_lemmas += 1\n",
    "            all_pos += 1\n",
    "            all_tags += 1  \n",
    "    \n",
    "    acc_lemmas = sim_lemmas / all_lemmas\n",
    "    acc_pos = sim_pos / all_pos\n",
    "    acc_tags = sim_tags / all_tags\n",
    "    \n",
    "    return acc_lemmas, acc_pos, acc_tags"
   ]
  },
  {
   "cell_type": "markdown",
   "id": "3ce25fb8",
   "metadata": {},
   "source": [
    "Сравниваем главные слова (heads) каждого зависимого слова и находим их отношения (deprels). Метрика UAS - доля совпавших heads, LAS - доля совпавших deprels при условии совпадения heads."
   ]
  },
  {
   "cell_type": "code",
   "execution_count": 9,
   "id": "36e47e7b",
   "metadata": {},
   "outputs": [],
   "source": [
    "def compare_syntax(corpus):\n",
    "    \n",
    "    \n",
    "    sim_heads = 0\n",
    "    sim_deprels = 0\n",
    "    heads = 0\n",
    "    \n",
    "    for pair in corpus:\n",
    "        for i in range(len(pair[0])):\n",
    "               \n",
    "            if pair[1][i]['head'] == pair[0][i].head.i+1 \\\n",
    "            or (pair[1][i]['head'] == 0 and pair[1][i]['form'] == pair[0][i].head.text):\n",
    "                sim_heads += 1\n",
    "                    \n",
    "                if pair[1][i]['deprel'] == pair[0][i].dep_ \\\n",
    "                or (pair[1][i]['deprel'] == 'root' and pair[0][i].dep_ == 'ROOT'):\n",
    "                    sim_deprels += 1\n",
    "            heads+=1\n",
    "                \n",
    "    UAS = sim_heads / heads\n",
    "    LAS = sim_deprels / heads\n",
    "    return UAS, LAS            "
   ]
  },
  {
   "cell_type": "code",
   "execution_count": 10,
   "id": "e5a933d4",
   "metadata": {},
   "outputs": [],
   "source": [
    "def calculate(corpus):\n",
    "    filtered = filter_tokens(corpus)\n",
    "    return compare_morph(filtered), compare_syntax(filtered)"
   ]
  },
  {
   "cell_type": "code",
   "execution_count": 11,
   "id": "c9bd6f4d",
   "metadata": {},
   "outputs": [],
   "source": [
    "taiga_res = calculate(taiga)\n",
    "pud_res = calculate(pud)\n",
    "gsd_res = calculate(gsd)\n",
    "syntagrus_res = calculate(syntagrus)"
   ]
  },
  {
   "cell_type": "markdown",
   "id": "a5647466",
   "metadata": {},
   "source": [
    "Accuracy, морфология"
   ]
  },
  {
   "cell_type": "code",
   "execution_count": 16,
   "id": "26f080de",
   "metadata": {},
   "outputs": [
    {
     "data": {
      "text/html": [
       "<div>\n",
       "<style scoped>\n",
       "    .dataframe tbody tr th:only-of-type {\n",
       "        vertical-align: middle;\n",
       "    }\n",
       "\n",
       "    .dataframe tbody tr th {\n",
       "        vertical-align: top;\n",
       "    }\n",
       "\n",
       "    .dataframe thead th {\n",
       "        text-align: right;\n",
       "    }\n",
       "</style>\n",
       "<table border=\"1\" class=\"dataframe\">\n",
       "  <thead>\n",
       "    <tr style=\"text-align: right;\">\n",
       "      <th></th>\n",
       "      <th>gsd</th>\n",
       "      <th>taiga</th>\n",
       "      <th>pud</th>\n",
       "      <th>syntagrus</th>\n",
       "    </tr>\n",
       "  </thead>\n",
       "  <tbody>\n",
       "    <tr>\n",
       "      <th>acc_lemma</th>\n",
       "      <td>0.929845</td>\n",
       "      <td>0.916053</td>\n",
       "      <td>0.913988</td>\n",
       "      <td>0.923443</td>\n",
       "    </tr>\n",
       "    <tr>\n",
       "      <th>acc_pos</th>\n",
       "      <td>0.956143</td>\n",
       "      <td>0.933273</td>\n",
       "      <td>0.971534</td>\n",
       "      <td>0.959689</td>\n",
       "    </tr>\n",
       "    <tr>\n",
       "      <th>acc_features</th>\n",
       "      <td>0.839950</td>\n",
       "      <td>0.766308</td>\n",
       "      <td>0.917600</td>\n",
       "      <td>0.854662</td>\n",
       "    </tr>\n",
       "  </tbody>\n",
       "</table>\n",
       "</div>"
      ],
      "text/plain": [
       "                   gsd     taiga       pud  syntagrus\n",
       "acc_lemma     0.929845  0.916053  0.913988   0.923443\n",
       "acc_pos       0.956143  0.933273  0.971534   0.959689\n",
       "acc_features  0.839950  0.766308  0.917600   0.854662"
      ]
     },
     "execution_count": 16,
     "metadata": {},
     "output_type": "execute_result"
    }
   ],
   "source": [
    "df_morph = pd.DataFrame()\n",
    "df_morph['gsd'] = gsd_res[0]\n",
    "df_morph['taiga'] = taiga_res[0]\n",
    "df_morph['pud'] = pud_res[0]\n",
    "df_morph['syntagrus'] = syntagrus_res[0]\n",
    "df_morph.rename({0: 'acc_lemma', 1: 'acc_pos', 2: 'acc_features'})"
   ]
  },
  {
   "cell_type": "markdown",
   "id": "7f9ecad5",
   "metadata": {},
   "source": [
    "Accuracy, синтаксис"
   ]
  },
  {
   "cell_type": "code",
   "execution_count": 17,
   "id": "6ce7c2c0",
   "metadata": {},
   "outputs": [
    {
     "data": {
      "text/html": [
       "<div>\n",
       "<style scoped>\n",
       "    .dataframe tbody tr th:only-of-type {\n",
       "        vertical-align: middle;\n",
       "    }\n",
       "\n",
       "    .dataframe tbody tr th {\n",
       "        vertical-align: top;\n",
       "    }\n",
       "\n",
       "    .dataframe thead th {\n",
       "        text-align: right;\n",
       "    }\n",
       "</style>\n",
       "<table border=\"1\" class=\"dataframe\">\n",
       "  <thead>\n",
       "    <tr style=\"text-align: right;\">\n",
       "      <th></th>\n",
       "      <th>gsd</th>\n",
       "      <th>taiga</th>\n",
       "      <th>pud</th>\n",
       "      <th>syntagrus</th>\n",
       "    </tr>\n",
       "  </thead>\n",
       "  <tbody>\n",
       "    <tr>\n",
       "      <th>UAS</th>\n",
       "      <td>0.873937</td>\n",
       "      <td>0.829492</td>\n",
       "      <td>0.930762</td>\n",
       "      <td>0.887058</td>\n",
       "    </tr>\n",
       "    <tr>\n",
       "      <th>LAS</th>\n",
       "      <td>0.813382</td>\n",
       "      <td>0.777022</td>\n",
       "      <td>0.887114</td>\n",
       "      <td>0.838188</td>\n",
       "    </tr>\n",
       "  </tbody>\n",
       "</table>\n",
       "</div>"
      ],
      "text/plain": [
       "          gsd     taiga       pud  syntagrus\n",
       "UAS  0.873937  0.829492  0.930762   0.887058\n",
       "LAS  0.813382  0.777022  0.887114   0.838188"
      ]
     },
     "execution_count": 17,
     "metadata": {},
     "output_type": "execute_result"
    }
   ],
   "source": [
    "df_syntax = pd.DataFrame()\n",
    "df_syntax['gsd'] = gsd_res[1]\n",
    "df_syntax['taiga'] = taiga_res[1]\n",
    "df_syntax['pud'] = pud_res[1]\n",
    "df_syntax['syntagrus'] = syntagrus_res[1]\n",
    "df_syntax.rename({0: 'UAS', 1: 'LAS'})"
   ]
  }
 ],
 "metadata": {
  "kernelspec": {
   "display_name": "Python 3 (ipykernel)",
   "language": "python",
   "name": "python3"
  },
  "language_info": {
   "codemirror_mode": {
    "name": "ipython",
    "version": 3
   },
   "file_extension": ".py",
   "mimetype": "text/x-python",
   "name": "python",
   "nbconvert_exporter": "python",
   "pygments_lexer": "ipython3",
   "version": "3.9.3"
  }
 },
 "nbformat": 4,
 "nbformat_minor": 5
}
